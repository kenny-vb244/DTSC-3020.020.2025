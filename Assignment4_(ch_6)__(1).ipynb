{
  "cells": [
    {
      "cell_type": "markdown",
      "metadata": {
        "id": "view-in-github",
        "colab_type": "text"
      },
      "source": [
        "<a href=\"https://colab.research.google.com/github/kenny-vb244/DTSC-3020.020.2025/blob/main/Assignment4_(ch_6)__(1).ipynb\" target=\"_parent\"><img src=\"https://colab.research.google.com/assets/colab-badge.svg\" alt=\"Open In Colab\"/></a>"
      ]
    },
    {
      "cell_type": "markdown",
      "source": [
        "#DTSC 3020 – Assignment 4\n",
        "Chapter 6 – Dictionaries\n",
        "\n",
        "Total points: 4\n",
        "\n",
        "Deadline: Friday at midnight\n",
        "\n",
        "Submission: Upload your Python file to your GitHub repository and submit only your GitHub link.\n",
        "\n",
        "\n",
        "Expectations\n",
        "Write complete answers and run all cells before submission.\n",
        "Keep the notebook clean (no unnecessary code)."
      ],
      "metadata": {
        "id": "-astqhkqk-sA"
      },
      "id": "-astqhkqk-sA"
    },
    {
      "cell_type": "markdown",
      "source": [
        "Exercise  1: Find and print the student with the lowest grade."
      ],
      "metadata": {
        "id": "Iu8c7M_Rk9AH"
      },
      "id": "Iu8c7M_Rk9AH"
    },
    {
      "cell_type": "code",
      "source": [
        "grades = {\n",
        "    'Ali': 17,\n",
        "    'Sara': 19,\n",
        "    'Reza': 18.5,\n",
        "    'Lina': 20,\n",
        "    'Omid': 16\n",
        "}\n",
        "\n",
        "# Write your code here:\n",
        "\n",
        "min(grades, key=grades.get)\n",
        "print(f\"{key} has the lowest grade.\")\n",
        "\n",
        "\n"
      ],
      "metadata": {
        "id": "qL5VY2kIk4Nc",
        "colab": {
          "base_uri": "https://localhost:8080/"
        },
        "outputId": "d979dce4-2ab4-401c-cf79-5a460108beb0"
      },
      "id": "qL5VY2kIk4Nc",
      "execution_count": 15,
      "outputs": [
        {
          "output_type": "stream",
          "name": "stdout",
          "text": [
            "Omid has the lowest grade.\n"
          ]
        }
      ]
    },
    {
      "cell_type": "markdown",
      "source": [
        "Exercise 2: print names of students who registered for any course containing \"Data\""
      ],
      "metadata": {
        "id": "y880yRq6k58C"
      },
      "id": "y880yRq6k58C"
    },
    {
      "cell_type": "code",
      "source": [
        "courses = {\n",
        "    'Ali': ['Python', 'Math'],\n",
        "    'Sara': ['Data Mining', 'Chemistry'],\n",
        "    'Reza': ['Machine Learning', 'Data Science'],\n",
        "    'Lina': ['English', 'History']\n",
        "}\n",
        "\n",
        "# Write your code here:\n",
        "\n",
        "for student, course in courses.items():\n",
        "  for c in course:\n",
        "    if \"Data\" in c:\n",
        "      print(student)"
      ],
      "metadata": {
        "id": "tFfys48Iodlr",
        "colab": {
          "base_uri": "https://localhost:8080/"
        },
        "outputId": "9def51be-20dc-46a0-c0c5-7d9fa5a8518b"
      },
      "id": "tFfys48Iodlr",
      "execution_count": 3,
      "outputs": [
        {
          "output_type": "stream",
          "name": "stdout",
          "text": [
            "Sara\n",
            "Reza\n"
          ]
        }
      ]
    },
    {
      "cell_type": "markdown",
      "source": [
        "Exercise 3: Print titles of books that are not available."
      ],
      "metadata": {
        "id": "nUG5vQjeoWWE"
      },
      "id": "nUG5vQjeoWWE"
    },
    {
      "cell_type": "code",
      "source": [
        "library = {\n",
        "    'Python101': {'pages': 180, 'available': True},\n",
        "    'AI Basics': {'pages': 130, 'available': False},\n",
        "    'Math Advanced': {'pages': 200, 'available': False},\n",
        "    'Statistics': {'pages': 175, 'available': True}\n",
        "}\n",
        "\n",
        "# Write your code here:\n",
        "\n",
        "for book, info in library.items():\n",
        "  if info[\"available\"] == False:\n",
        "    print(book)\n",
        "\n"
      ],
      "metadata": {
        "id": "2kFBzKyloecs",
        "colab": {
          "base_uri": "https://localhost:8080/"
        },
        "outputId": "e46d98aa-39b7-4a0d-c215-8866b23b8310"
      },
      "id": "2kFBzKyloecs",
      "execution_count": 4,
      "outputs": [
        {
          "output_type": "stream",
          "name": "stdout",
          "text": [
            "AI Basics\n",
            "Math Advanced\n"
          ]
        }
      ]
    },
    {
      "cell_type": "markdown",
      "source": [
        "Exercise 4: Print names of students who are registered for more than 2 courses.\n"
      ],
      "metadata": {
        "id": "HA_jFJ3Ro2FJ"
      },
      "id": "HA_jFJ3Ro2FJ"
    },
    {
      "cell_type": "code",
      "source": [
        "\n",
        "registrations = {\n",
        "    'Ali': ['Python', 'Math'],\n",
        "    'Sara': ['Biology', 'Chemistry', 'Math'],\n",
        "    'Reza': ['English'],\n",
        "    'Lina': ['History', 'Physics', 'Geography', 'Art']\n",
        "}\n",
        "\n",
        "# Write your code here:\n",
        "\n",
        "for student, course in registrations.items():\n",
        "  if len(course) > 2:\n",
        "    print(student)\n",
        "\n"
      ],
      "metadata": {
        "id": "vYXKqs-jk43C",
        "colab": {
          "base_uri": "https://localhost:8080/"
        },
        "outputId": "16519778-5972-49af-ddbc-ec809954e14b"
      },
      "id": "vYXKqs-jk43C",
      "execution_count": 6,
      "outputs": [
        {
          "output_type": "stream",
          "name": "stdout",
          "text": [
            "Sara\n",
            "Lina\n"
          ]
        }
      ]
    },
    {
      "cell_type": "markdown",
      "source": [
        "Exercise 5: Calculate and print the average grade of the class."
      ],
      "metadata": {
        "id": "ZR7nhc-BpHvx"
      },
      "id": "ZR7nhc-BpHvx"
    },
    {
      "cell_type": "code",
      "source": [
        "grades = {\n",
        "    'Ali': 17,\n",
        "    'Sara': 19,\n",
        "    'Reza': 18.5,\n",
        "    'Lina': 20,\n",
        "    'Omid': 16\n",
        "}\n",
        "\n",
        "# Write your code here:\n",
        "\n",
        "print(sum(grades.values()) / len(grades))"
      ],
      "metadata": {
        "id": "6Xbt2zE8pGNJ",
        "colab": {
          "base_uri": "https://localhost:8080/"
        },
        "outputId": "a0767cba-3c8e-4f32-f98f-23fa01df4235"
      },
      "id": "6Xbt2zE8pGNJ",
      "execution_count": 14,
      "outputs": [
        {
          "output_type": "stream",
          "name": "stdout",
          "text": [
            "18.1\n"
          ]
        }
      ]
    },
    {
      "cell_type": "markdown",
      "source": [
        "Exercise 6: Count and print the number of students registered for \"Python\".\n"
      ],
      "metadata": {
        "id": "U33R5aWYpev_"
      },
      "id": "U33R5aWYpev_"
    },
    {
      "cell_type": "code",
      "source": [
        "courses = {\n",
        "    'Ali': ['Python', 'Math'],\n",
        "    'Sara': ['Biology', 'Chemistry'],\n",
        "    'Reza': ['Python', 'AI'],\n",
        "    'Lina': ['English', 'History'],\n",
        "    'Omid': ['Python']\n",
        "}\n",
        "\n",
        "# Write your code here:\n",
        "\n",
        "count = 0\n",
        "\n",
        "for student, course in courses.items():\n",
        "  if 'Python' in course:\n",
        "    count = count + 1\n",
        "\n",
        "print(f\"{count} students registered\")"
      ],
      "metadata": {
        "id": "Wcjq96gVpliQ",
        "colab": {
          "base_uri": "https://localhost:8080/"
        },
        "outputId": "976d3bf0-43cb-42a2-b580-c65269b59d3c"
      },
      "id": "Wcjq96gVpliQ",
      "execution_count": 21,
      "outputs": [
        {
          "output_type": "stream",
          "name": "stdout",
          "text": [
            "3 students registered\n"
          ]
        }
      ]
    },
    {
      "cell_type": "markdown",
      "source": [
        "Exercise 7: Print titles of books with more than 200 pages."
      ],
      "metadata": {
        "id": "2tAWS80-p75f"
      },
      "id": "2tAWS80-p75f"
    },
    {
      "cell_type": "code",
      "source": [
        "book_pages = {\n",
        "    'Python101': 180,\n",
        "    'AI Basics': 230,\n",
        "    'Math Advanced': 250,\n",
        "    'Statistics': 190,\n",
        "    'Data Science': 300\n",
        "}\n",
        "\n",
        "\n",
        "# write your answer here\n",
        "\n",
        "for book, pages in book_pages.items():\n",
        "  if pages >= 200:\n",
        "    print(book)\n"
      ],
      "metadata": {
        "id": "OxMTnraWp8Pf",
        "colab": {
          "base_uri": "https://localhost:8080/"
        },
        "outputId": "bd19cb1e-22f9-4643-d8a3-567e79daf402"
      },
      "id": "OxMTnraWp8Pf",
      "execution_count": 18,
      "outputs": [
        {
          "output_type": "stream",
          "name": "stdout",
          "text": [
            "AI Basics\n",
            "Math Advanced\n",
            "Data Science\n"
          ]
        }
      ]
    },
    {
      "cell_type": "markdown",
      "source": [
        "Exercise 8: Print each student's name and number of registered courses.\n"
      ],
      "metadata": {
        "id": "DTw2a77lqOL1"
      },
      "id": "DTw2a77lqOL1"
    },
    {
      "cell_type": "code",
      "source": [
        "courses = {\n",
        "    'Ali': ['Python', 'Math'],\n",
        "    'Sara': ['Biology', 'Chemistry'],\n",
        "    'Reza': ['Python', 'AI'],\n",
        "    'Lina': ['English', 'History'],\n",
        "    'Omid': ['Python']\n",
        "}\n",
        "\n",
        "# Write your code here:\n",
        "\n",
        "for student, course in courses.items():\n",
        "  count = len(courses[student])\n",
        "  print(f\"{student}: {count} course(s)\")\n",
        "\n"
      ],
      "metadata": {
        "id": "hFURuXPTqL8Y",
        "colab": {
          "base_uri": "https://localhost:8080/"
        },
        "outputId": "a6e0e2e8-dcc0-4909-a55b-3f467f495f6b"
      },
      "id": "hFURuXPTqL8Y",
      "execution_count": 27,
      "outputs": [
        {
          "output_type": "stream",
          "name": "stdout",
          "text": [
            "Ali: 2 course(s)\n",
            "Sara: 2 course(s)\n",
            "Reza: 2 course(s)\n",
            "Lina: 2 course(s)\n",
            "Omid: 1 course(s)\n"
          ]
        }
      ]
    }
  ],
  "metadata": {
    "colab": {
      "provenance": [],
      "include_colab_link": true
    },
    "language_info": {
      "name": "python"
    },
    "kernelspec": {
      "name": "python3",
      "display_name": "Python 3"
    }
  },
  "nbformat": 4,
  "nbformat_minor": 5
}