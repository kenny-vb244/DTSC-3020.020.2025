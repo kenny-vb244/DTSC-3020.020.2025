{
  "nbformat": 4,
  "nbformat_minor": 0,
  "metadata": {
    "colab": {
      "provenance": [],
      "authorship_tag": "ABX9TyNcejp6PNpNkZiPcsPPYPAd",
      "include_colab_link": true
    },
    "kernelspec": {
      "name": "python3",
      "display_name": "Python 3"
    },
    "language_info": {
      "name": "python"
    }
  },
  "cells": [
    {
      "cell_type": "markdown",
      "metadata": {
        "id": "view-in-github",
        "colab_type": "text"
      },
      "source": [
        "<a href=\"https://colab.research.google.com/github/kenny-vb244/DTSC-3020.020.2025/blob/main/Homework_2.ipynb\" target=\"_parent\"><img src=\"https://colab.research.google.com/assets/colab-badge.svg\" alt=\"Open In Colab\"/></a>"
      ]
    },
    {
      "cell_type": "code",
      "execution_count": 7,
      "metadata": {
        "id": "mLA4tCbbtcNS",
        "colab": {
          "base_uri": "https://localhost:8080/"
        },
        "outputId": "b7b2f480-424f-4e54-87cd-b5ff8de864f8"
      },
      "outputs": [
        {
          "output_type": "stream",
          "name": "stdout",
          "text": [
            "3\n",
            "['DATA', 'SCIENCE', 'AT', 'University', 'of', 'North', 'Texas']\n"
          ]
        }
      ],
      "source": [
        "text = 'Data Science at UNT'\n",
        "\n",
        "extract_word = text[5:12]\n",
        "\n",
        "for i in text:\n",
        "  text = text.upper()\n",
        "\n",
        "for i in text:\n",
        "  count = text.count('A')\n",
        "print(count)\n",
        "\n",
        "text = text.replace('UNT', 'University of North Texas')\n",
        "\n",
        "\n",
        "text_list = text.split()\n",
        "print(text_list)\n"
      ]
    },
    {
      "cell_type": "code",
      "source": [
        "numbers = [10,20,30,40,50]\n",
        "\n",
        "numbers.insert(2,25)\n",
        "\n",
        "numbers.pop()\n",
        "\n",
        "numbers.reverse()\n",
        "print(numbers)\n",
        "\n",
        "total = sum(numbers)\n",
        "print(total)\n",
        "\n",
        "numbers.remove(10)\n",
        "numbers.append(5)\n",
        "print(numbers)"
      ],
      "metadata": {
        "colab": {
          "base_uri": "https://localhost:8080/"
        },
        "id": "ddcjRuPkhd-5",
        "outputId": "4b061800-32b2-4f4d-e271-9ab937c6662b"
      },
      "execution_count": 36,
      "outputs": [
        {
          "output_type": "stream",
          "name": "stdout",
          "text": [
            "[40, 30, 25, 20, 10]\n",
            "125\n",
            "[40, 30, 25, 20, 5]\n"
          ]
        }
      ]
    },
    {
      "cell_type": "code",
      "source": [
        "sentence = \"Python programming is fun\"\n",
        "\n",
        "sentence_split = sentence.split()\n",
        "print(len(sentence_split))\n",
        "\n",
        "replace_string = 'powerful'\n",
        "sentence = sentence.replace('fun', replace_string)\n",
        "print(sentence)\n",
        "\n",
        "sentence = sentence.upper()\n",
        "index = sentence.find('PROGRAMMING')\n",
        "\n",
        "substring = sentence[0:6]\n",
        "print(substring)\n"
      ],
      "metadata": {
        "colab": {
          "base_uri": "https://localhost:8080/"
        },
        "id": "JshjEACmntw4",
        "outputId": "0bd6d574-e8a9-4ef7-9474-66e500fa831f"
      },
      "execution_count": 66,
      "outputs": [
        {
          "output_type": "stream",
          "name": "stdout",
          "text": [
            "4\n",
            "Python programming is powerful\n",
            "PYTHON\n"
          ]
        }
      ]
    }
  ]
}