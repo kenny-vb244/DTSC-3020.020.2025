{
  "nbformat": 4,
  "nbformat_minor": 0,
  "metadata": {
    "colab": {
      "provenance": [],
      "authorship_tag": "ABX9TyN5ztpCK4wsPYJe0M5aL+/2",
      "include_colab_link": true
    },
    "kernelspec": {
      "name": "python3",
      "display_name": "Python 3"
    },
    "language_info": {
      "name": "python"
    }
  },
  "cells": [
    {
      "cell_type": "markdown",
      "metadata": {
        "id": "view-in-github",
        "colab_type": "text"
      },
      "source": [
        "<a href=\"https://colab.research.google.com/github/kenny-vb244/DTSC-3020.020.2025/blob/main/Assignment_2.ipynb\" target=\"_parent\"><img src=\"https://colab.research.google.com/assets/colab-badge.svg\" alt=\"Open In Colab\"/></a>"
      ]
    },
    {
      "cell_type": "code",
      "execution_count": 3,
      "metadata": {
        "colab": {
          "base_uri": "https://localhost:8080/"
        },
        "id": "lXHkMy56zbUp",
        "outputId": "10941cd6-480f-4c13-962d-5d1808400710"
      },
      "outputs": [
        {
          "output_type": "stream",
          "name": "stdout",
          "text": [
            "['kiwi', 'mango', 'lime']\n",
            "kiwi\n",
            "mango\n",
            "lime\n"
          ]
        }
      ],
      "source": [
        "fruitList = [\"kiwi\", \"mango\", \"lime\"]\n",
        "print (fruitList)\n",
        "for i in fruitList:\n",
        "  print(i)"
      ]
    },
    {
      "cell_type": "code",
      "source": [
        "nameList = [\"Emily\", \"Zak\", \"Ava\", \"Grace\"]\n",
        "nameList[0] = \"Orion\"\n",
        "print(nameList)"
      ],
      "metadata": {
        "colab": {
          "base_uri": "https://localhost:8080/"
        },
        "id": "m5xuef9b0YDd",
        "outputId": "8abb0d22-5e0b-4351-f3b9-cf3f2f424507"
      },
      "execution_count": 5,
      "outputs": [
        {
          "output_type": "stream",
          "name": "stdout",
          "text": [
            "['Orion', 'Zak', 'Ava', 'Grace']\n"
          ]
        }
      ]
    },
    {
      "cell_type": "code",
      "source": [
        "vehicles = ['car', 'bike', 'scooter', 'skateboard', 'boat']\n",
        "vehicles.append('plane')\n",
        "print(vehicles)"
      ],
      "metadata": {
        "colab": {
          "base_uri": "https://localhost:8080/"
        },
        "id": "2etNOaIM1G2L",
        "outputId": "b5ac5a37-e4c1-4784-f2f8-51d79edda0ac"
      },
      "execution_count": 6,
      "outputs": [
        {
          "output_type": "stream",
          "name": "stdout",
          "text": [
            "['car', 'bike', 'scooter', 'skateboard', 'boat', 'plane']\n"
          ]
        }
      ]
    },
    {
      "cell_type": "code",
      "source": [
        "foodList = ['lasagna', 'soup', 'biscuit', 'pizookie', 'sandwich', 'taco']\n",
        "foodList.remove('pizookie')\n",
        "print(foodList)"
      ],
      "metadata": {
        "colab": {
          "base_uri": "https://localhost:8080/"
        },
        "id": "DW3PidMh1hId",
        "outputId": "f2d69958-5f13-474c-caad-2c668aefaa99"
      },
      "execution_count": 7,
      "outputs": [
        {
          "output_type": "stream",
          "name": "stdout",
          "text": [
            "['lasagna', 'soup', 'biscuit', 'sandwich', 'taco']\n"
          ]
        }
      ]
    },
    {
      "cell_type": "code",
      "source": [
        "cityList = ['Detroit', 'Dallas', 'St.Paul', 'Atlanta' ]\n",
        "cityList.sort()\n",
        "print(cityList)"
      ],
      "metadata": {
        "colab": {
          "base_uri": "https://localhost:8080/"
        },
        "id": "g47ak4ev2CJX",
        "outputId": "aa7137db-9fd3-4269-c3db-9ac46062403d"
      },
      "execution_count": 8,
      "outputs": [
        {
          "output_type": "stream",
          "name": "stdout",
          "text": [
            "['Atlanta', 'Dallas', 'Detroit', 'St.Paul']\n"
          ]
        }
      ]
    },
    {
      "cell_type": "code",
      "source": [
        "animals = ['catfish', 'shrimp', 'snail']\n",
        "for i in animals:\n",
        "  print(i)"
      ],
      "metadata": {
        "colab": {
          "base_uri": "https://localhost:8080/"
        },
        "id": "b3IACYdt2hqN",
        "outputId": "a557ef36-0f00-40ac-d68c-131d5afc31b0"
      },
      "execution_count": 9,
      "outputs": [
        {
          "output_type": "stream",
          "name": "stdout",
          "text": [
            "catfish\n",
            "shrimp\n",
            "snail\n"
          ]
        }
      ]
    },
    {
      "cell_type": "code",
      "source": [
        "numberList = [1, 2, 3, 4, 5]\n",
        "for i in numberList:\n",
        "  print(i*2)"
      ],
      "metadata": {
        "colab": {
          "base_uri": "https://localhost:8080/"
        },
        "id": "FPKvKcYS239i",
        "outputId": "6bc15244-e161-4b6e-aeac-e9a0869bda97"
      },
      "execution_count": 10,
      "outputs": [
        {
          "output_type": "stream",
          "name": "stdout",
          "text": [
            "2\n",
            "4\n",
            "6\n",
            "8\n",
            "10\n"
          ]
        }
      ]
    },
    {
      "cell_type": "code",
      "source": [
        "friendList = ['Ava', 'Faber', 'Calladora', 'Alyssa', 'Asa', 'Emma']\n",
        "print(friendList[0:3])\n",
        "print(friendList[3:6])"
      ],
      "metadata": {
        "colab": {
          "base_uri": "https://localhost:8080/"
        },
        "id": "RZr0jyM73Ppt",
        "outputId": "f0a51ef1-ef4e-4bc7-ce56-ab6b122baaff"
      },
      "execution_count": 13,
      "outputs": [
        {
          "output_type": "stream",
          "name": "stdout",
          "text": [
            "['Ava', 'Faber', 'Calladora']\n",
            "['Alyssa', 'Asa', 'Emma']\n"
          ]
        }
      ]
    },
    {
      "cell_type": "code",
      "source": [
        "newList = [x for x in range(11) if x > 0]\n",
        "print(newList)"
      ],
      "metadata": {
        "colab": {
          "base_uri": "https://localhost:8080/"
        },
        "id": "jWUMxJ_D4hkO",
        "outputId": "ce2a5a3d-8577-48bb-92a3-28502d409bcd"
      },
      "execution_count": 18,
      "outputs": [
        {
          "output_type": "stream",
          "name": "stdout",
          "text": [
            "[1, 2, 3, 4, 5, 6, 7, 8, 9, 10]\n"
          ]
        }
      ]
    },
    {
      "cell_type": "code",
      "source": [
        "list1 = [1, 2, 3, 4, 5]\n",
        "list2 = []\n",
        "\n",
        "for i in list1:\n",
        "  list2.append(i*i)\n",
        "\n",
        "print(list2)"
      ],
      "metadata": {
        "colab": {
          "base_uri": "https://localhost:8080/"
        },
        "id": "oHbndlzH5Py4",
        "outputId": "7973ee1e-2e8c-42ea-9b9b-d5bbaacfdafc"
      },
      "execution_count": 15,
      "outputs": [
        {
          "output_type": "stream",
          "name": "stdout",
          "text": [
            "[1, 4, 9, 16, 25]\n"
          ]
        }
      ]
    }
  ]
}